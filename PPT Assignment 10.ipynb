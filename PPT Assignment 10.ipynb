{
 "cells": [
  {
   "cell_type": "code",
   "execution_count": null,
   "id": "1d19215d",
   "metadata": {},
   "outputs": [],
   "source": [
    "Question 1\n",
    "Given an integer `n`, return *`true` if it is a power of three. Otherwise, return `false`*.\n",
    "\n",
    "An integer `n` is a power of three, if there exists an integer `x` such that `n == 3x`.\n",
    "\n",
    "Example 1:\n",
    "Input: n = 27\n",
    "Output: true\n",
    "Explanation: 27 = 33"
   ]
  },
  {
   "cell_type": "code",
   "execution_count": 3,
   "id": "02ab83ce",
   "metadata": {},
   "outputs": [
    {
     "name": "stdout",
     "output_type": "stream",
     "text": [
      "True\n"
     ]
    }
   ],
   "source": [
    "    def isPowerOfThree( n):\n",
    "        if n<1:\n",
    "            return False\n",
    "        while(n%3 ==0):\n",
    "            n=n//3\n",
    "        return n==1\n",
    "    print(isPowerOfThree(27))"
   ]
  },
  {
   "cell_type": "code",
   "execution_count": null,
   "id": "270711f1",
   "metadata": {},
   "outputs": [],
   "source": [
    "**Question 2**\n",
    "\n",
    "You have a list `arr` of all integers in the range `[1, n]` sorted in a strictly increasing order. Apply the following \n",
    "algorithm on `arr`:\n",
    "\n",
    "- Starting from left to right, remove the first number and every other number afterward until you reach the end of the\n",
    "list.\n",
    "- Repeat the previous step again, but this time from right to left, remove the rightmost number and every other number\n",
    "from the remaining numbers.\n",
    "- Keep repeating the steps again, alternating left to right and right to left, until a single number remains.\n",
    "\n",
    "Given the integer `n`, return *the last number that remains in* `arr`.\n",
    "\n",
    "**Example 1:**\n",
    "Input: n = 9\n",
    "Output: 6\n",
    "Explanation:\n",
    "arr = [1, 2,3, 4,5, 6,7, 8,9]\n",
    "arr = [2,4, 6,8]\n",
    "arr = [2, 6]\n",
    "arr = [6]"
   ]
  },
  {
   "cell_type": "code",
   "execution_count": 4,
   "id": "78eb45f5",
   "metadata": {},
   "outputs": [
    {
     "name": "stdout",
     "output_type": "stream",
     "text": [
      "6\n"
     ]
    }
   ],
   "source": [
    "    def lastRemaining( n):\n",
    "        a1, an = 1, n\n",
    "        i, step, cnt = 0, 1, n\n",
    "        while cnt > 1:\n",
    "            if i % 2:\n",
    "                an -= step\n",
    "                if cnt % 2:\n",
    "                    a1 += step\n",
    "            else:\n",
    "                a1 += step\n",
    "                if cnt % 2:\n",
    "                    an -= step\n",
    "            cnt >>= 1\n",
    "            step <<= 1\n",
    "            i += 1\n",
    "        return a1\n",
    "    print(lastRemaining(9))"
   ]
  },
  {
   "cell_type": "code",
   "execution_count": null,
   "id": "d0e5f50a",
   "metadata": {},
   "outputs": [],
   "source": [
    "**Question 3**\n",
    "\n",
    "****Given a set represented as a string, write a recursive code to print all subsets of it. The subsets can be printed in \n",
    "any order.\n",
    "\n",
    "**Example 1:**\n",
    "\n",
    "Input :  set = “abc”\n",
    "\n",
    "Output : { “”, “a”, “b”, “c”, “ab”, “ac”, “bc”, “abc”}"
   ]
  },
  {
   "cell_type": "code",
   "execution_count": 6,
   "id": "6e541619",
   "metadata": {},
   "outputs": [
    {
     "name": "stdout",
     "output_type": "stream",
     "text": [
      "abc\n",
      "ab\n",
      "ac\n",
      "a\n",
      "bc\n",
      "b\n",
      "c\n",
      "\n",
      "None\n"
     ]
    }
   ],
   "source": [
    "def powerSet(string, index, curr):\n",
    " \n",
    "    # string : Stores input string\n",
    "    # curr : Stores current subset\n",
    "    # index : Index in current subset, curr\n",
    "    if index == len(string):\n",
    "        print(curr)\n",
    "        return\n",
    " \n",
    "    powerSet(string, index + 1,curr + string[index])\n",
    "    powerSet(string, index + 1, curr)\n",
    "print(powerSet('abc',0,''))"
   ]
  },
  {
   "cell_type": "code",
   "execution_count": null,
   "id": "58c7f157",
   "metadata": {},
   "outputs": [],
   "source": [
    "**Question 4**\n",
    "Given a string calculate length of the string using recursion.\n",
    "**Example 1:**\n",
    "Input : str = \"abcd\"\n",
    "Output :4\n",
    "**Example 2:**\n",
    "Input : str = \"GEEKSFORGEEKS\"\n",
    "Output :13\n"
   ]
  },
  {
   "cell_type": "code",
   "execution_count": 7,
   "id": "96d3276f",
   "metadata": {},
   "outputs": [
    {
     "name": "stdout",
     "output_type": "stream",
     "text": [
      "13\n"
     ]
    }
   ],
   "source": [
    "def string_length(str) :\n",
    "     \n",
    "    # if we reach at the\n",
    "    # end of the string\n",
    "    if str == '':\n",
    "        return 0\n",
    "    else :\n",
    "        return 1 + string_length(str[1:])\n",
    "     \n",
    "# Driver Code\n",
    "print (string_length(\"GEEKSFORGEEKS\"))"
   ]
  },
  {
   "cell_type": "code",
   "execution_count": null,
   "id": "530e11f9",
   "metadata": {},
   "outputs": [],
   "source": [
    "**Question 5**\n",
    "\n",
    "We are given a string S, we need to find count of all contiguous substrings starting and ending with same character.\n",
    "\n",
    "**Examples :**\n",
    "Input  : S = \"abcab\"\n",
    "Output : 7\n",
    "There are 15 substrings of \"abcab\"\n",
    "a, ab, abc, abca, abcab, b, bc, bca\n",
    "bcab, c, ca, cab, a, ab, b\n",
    "Out of the above substrings, there\n",
    "are 7 substrings : a, abca, b, bcab,\n",
    "c, a and b.\n",
    "\n",
    "Input  : S = \"aba\"\n",
    "Output : 4\n",
    "The substrings are a, b, a and aba"
   ]
  },
  {
   "cell_type": "code",
   "execution_count": 9,
   "id": "51b4b2d2",
   "metadata": {},
   "outputs": [
    {
     "name": "stdout",
     "output_type": "stream",
     "text": [
      "7\n"
     ]
    }
   ],
   "source": [
    "def countSubstringWithEqualEnds(s):\n",
    " \n",
    "    result = 0\n",
    "    n = len(s)\n",
    "    for i in range(n):\n",
    "        for j in range(i, n):\n",
    "            if (s[i] == s[j]):\n",
    "                result = result + 1\n",
    " \n",
    "    return result\n",
    "\n",
    "s = \"abcab\";\n",
    "print(countSubstringWithEqualEnds(s))"
   ]
  },
  {
   "cell_type": "code",
   "execution_count": null,
   "id": "329ba17b",
   "metadata": {},
   "outputs": [],
   "source": [
    "**Question 6**\n",
    "\n",
    "The [tower of Hanoi](https://en.wikipedia.org/wiki/Tower_of_Hanoi) is a famous puzzle where we have three rods and \n",
    "**N** disks. The objective of the puzzle is to move the entire stack to another rod. You are given the number of discs \n",
    "**N**. Initially, these discs are in the rod 1. You need to print all the steps of discs movement so that all the discs \n",
    "reach the 3rd rod. Also, you need to find the total moves.**Note:** The discs are arranged such that the **top disc is \n",
    "numbered 1** and the **bottom-most disc is numbered N**. Also, all the discs have **different sizes** and a bigger disc \n",
    "cannot be put on the top of a smaller disc. Refer the provided link to get a better clarity about the puzzle.\n",
    "\n",
    "**Example 1:**\n",
    "Input:\n",
    "N = 2\n",
    "Output:\n",
    "move disk 1 from rod 1 to rod 2\n",
    "move disk 2 from rod 1 to rod 3\n",
    "move disk 1 from rod 2 to rod 3\n",
    "3\n",
    "Explanation:For N=2 , steps will be\n",
    "as follows in the example and total\n",
    "3 steps will be taken."
   ]
  },
  {
   "cell_type": "code",
   "execution_count": 12,
   "id": "6cff2270",
   "metadata": {},
   "outputs": [
    {
     "name": "stdout",
     "output_type": "stream",
     "text": [
      "Move disk 1 from source 1 to destination 3\n",
      "Move disk 2 from source 1 to destination 2\n",
      "Move disk 1 from source 3 to destination 2\n"
     ]
    }
   ],
   "source": [
    "\n",
    "# Recursive Python function to solve the tower of hanoi\n",
    " \n",
    "def TowerOfHanoi(n , source, destination, auxiliary):\n",
    "    if n==1:\n",
    "        print (\"Move disk 1 from source\",source,\"to destination\",destination)\n",
    "        return\n",
    "    TowerOfHanoi(n-1, source, auxiliary, destination)\n",
    "    print (\"Move disk\",n,\"from source\",source,\"to destination\",destination)\n",
    "    TowerOfHanoi(n-1, auxiliary, destination, source)\n",
    "n = 2\n",
    "TowerOfHanoi(n,'1','2','3')"
   ]
  },
  {
   "cell_type": "code",
   "execution_count": null,
   "id": "2ddc343d",
   "metadata": {},
   "outputs": [],
   "source": [
    " **Question 7**\n",
    "\n",
    "Given a string **str**, the task is to print all the permutations of **str**. A **permutation** is an arrangement of all \n",
    "or part of a set of objects, with regard to the order of the arrangement. For instance, the words ‘bat’ and ‘tab’ \n",
    "represents two distinct permutation (or arrangements) of a similar three letter word.\n",
    "\n",
    "**Examples:**\n",
    "\n",
    "> Input: str = “cd”\n",
    "> \n",
    "> \n",
    "> **Output:** cd dc"
   ]
  },
  {
   "cell_type": "code",
   "execution_count": 13,
   "id": "01d44c82",
   "metadata": {},
   "outputs": [
    {
     "name": "stdout",
     "output_type": "stream",
     "text": [
      "All possible strings are : \n",
      "cd  dc  "
     ]
    }
   ],
   "source": [
    "def permute(s, answer):\n",
    "    if (len(s) == 0):\n",
    "        print(answer, end=\"  \")\n",
    "        return\n",
    " \n",
    "    for i in range(len(s)):\n",
    "        ch = s[i]\n",
    "        left_substr = s[0:i]\n",
    "        right_substr = s[i + 1:]\n",
    "        rest = left_substr + right_substr\n",
    "        permute(rest, answer + ch)\n",
    "\n",
    "answer = \"\"\n",
    " \n",
    "s = \"cd\"\n",
    " \n",
    "print(\"All possible strings are : \")\n",
    "permute(s, answer)"
   ]
  },
  {
   "cell_type": "code",
   "execution_count": null,
   "id": "1308f84e",
   "metadata": {},
   "outputs": [],
   "source": [
    " **Question 8**\n",
    "\n",
    "Given a string, count total number of consonants in it. A consonant is an English alphabet character that is not vowel \n",
    "(a, e, i, o and u). Examples of constants are b, c, d, f, and g.\n",
    "\n",
    "**Examples :**\n",
    "Input : abc de\n",
    "Output : 3\n",
    "There are three consonants b, c and d.\n",
    "\n",
    "Input : geeksforgeeks portal\n",
    "Output : 12"
   ]
  },
  {
   "cell_type": "code",
   "execution_count": 15,
   "id": "50919977",
   "metadata": {},
   "outputs": [
    {
     "name": "stdout",
     "output_type": "stream",
     "text": [
      "3\n"
     ]
    }
   ],
   "source": [
    "def isConsonant(ch):\n",
    "      \n",
    "    # To handle lower case\n",
    "    ch = ch.upper()\n",
    "  \n",
    "    return not (ch == 'A' or ch == 'E' or \n",
    "                ch == 'I' or ch == 'O' or \n",
    "                ch == 'U') and ord(ch) >= 65 and ord(ch) <= 90\n",
    "def totalConsonants(string, n):\n",
    "      \n",
    "    if n == 1:\n",
    "        return isConsonant(string[0])\n",
    "  \n",
    "    return totalConsonants(string, n - 1) + isConsonant(string[n-1])\n",
    "  \n",
    "string = \"abc de\"\n",
    "print(totalConsonants(string, len(string)))"
   ]
  }
 ],
 "metadata": {
  "kernelspec": {
   "display_name": "Python 3 (ipykernel)",
   "language": "python",
   "name": "python3"
  },
  "language_info": {
   "codemirror_mode": {
    "name": "ipython",
    "version": 3
   },
   "file_extension": ".py",
   "mimetype": "text/x-python",
   "name": "python",
   "nbconvert_exporter": "python",
   "pygments_lexer": "ipython3",
   "version": "3.9.12"
  }
 },
 "nbformat": 4,
 "nbformat_minor": 5
}
